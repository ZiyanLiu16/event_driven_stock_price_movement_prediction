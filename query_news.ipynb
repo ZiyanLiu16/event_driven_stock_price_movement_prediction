{
 "cells": [
  {
   "cell_type": "code",
   "execution_count": 1,
   "metadata": {
    "collapsed": true
   },
   "outputs": [],
   "source": [
    "import requests\n",
    "import json\n",
    "from datetime import datetime\n",
    "import pandas as pd\n",
    "import numpy as np"
   ]
  },
  {
   "cell_type": "code",
   "execution_count": 2,
   "metadata": {
    "collapsed": false
   },
   "outputs": [],
   "source": [
    "api_key = \"2a12e95ec0d648259b2598674b29b743\"\n",
    "ip = 'https://newsapi.org/v2/'\n",
    "types = ['top-headlines', 'everything']\n",
    "sources = ['bloomberg', 'cnn', 'financial-times']\n",
    "\n",
    "target_companies = set()\n",
    "with open('company_names.txt') as f:\n",
    "    for line in f:\n",
    "        target_companies.update(c.strip() for c in line.split(', '))"
   ]
  },
  {
   "cell_type": "code",
   "execution_count": 3,
   "metadata": {
    "collapsed": true
   },
   "outputs": [],
   "source": [
    "from datetime import date, timedelta\n",
    "date = date.today()\n",
    "days = 30 # max 30 for free api"
   ]
  },
  {
   "cell_type": "code",
   "execution_count": 16,
   "metadata": {
    "collapsed": false
   },
   "outputs": [],
   "source": [
    "# document: https://newsapi.org/docs/endpoints/everything\n",
    "page_size = 100\n",
    "pages = 99\n",
    "\n",
    "def fetch_data(date, days):\n",
    "    news = []\n",
    "    for i in range(days):\n",
    "        date = date + timedelta(-1)\n",
    "        date_string = date.strftime(\"%Y-%m-%d\")\n",
    "        sdate = date + timedelta(-1)\n",
    "        sdate_string = sdate.strftime(\"%Y-%m-%d\")\n",
    "        print(\"date_string: \",date_string)\n",
    "        print(\"sdate_string: \",sdate_string)\n",
    "        news_of_date = []\n",
    "        for source in sources:\n",
    "            url = \"{ip}{types}?sources={source}&to={edate}&pageSize={page_size}&page={pages}&apiKey={api_key}\".format(\n",
    "                ip=ip, types=types[1], #sdate=sdate_string, \n",
    "                edate=date_string, source=source,\n",
    "                page_size=page_size, pages=pages,\n",
    "                api_key=api_key)\n",
    "            response = requests.get(url)\n",
    "            try:\n",
    "                news_of_date.extend(response.json()['articles'])\n",
    "            except:\n",
    "                print(response.json())\n",
    "        print('number of news this day:{}\\n'.format(len([t[\"description\"] for t in news_of_date])))\n",
    "        news.extend(news_of_date)\n",
    "    return news"
   ]
  },
  {
   "cell_type": "code",
   "execution_count": 23,
   "metadata": {
    "collapsed": false
   },
   "outputs": [],
   "source": [
    "news = fetch_data(date.today(), days)"
   ]
  },
  {
   "cell_type": "code",
   "execution_count": 18,
   "metadata": {
    "collapsed": false
   },
   "outputs": [],
   "source": [
    "# number_news = page_size * pages\n",
    "# news = []\n",
    "# i = 0\n",
    "# while i < number_news:\n",
    "#     i += 200\n",
    "#     fetch_data()"
   ]
  },
  {
   "cell_type": "code",
   "execution_count": 20,
   "metadata": {
    "collapsed": true
   },
   "outputs": [],
   "source": [
    "texts = [t[\"description\"] for t in news]"
   ]
  },
  {
   "cell_type": "code",
   "execution_count": 21,
   "metadata": {
    "collapsed": false
   },
   "outputs": [
    {
     "data": {
      "text/plain": [
       "800"
      ]
     },
     "execution_count": 21,
     "metadata": {},
     "output_type": "execute_result"
    }
   ],
   "source": [
    "len(texts)"
   ]
  },
  {
   "cell_type": "code",
   "execution_count": 22,
   "metadata": {
    "collapsed": false
   },
   "outputs": [
    {
     "data": {
      "text/plain": [
       "785"
      ]
     },
     "execution_count": 22,
     "metadata": {},
     "output_type": "execute_result"
    }
   ],
   "source": [
    "len(set(texts))"
   ]
  },
  {
   "cell_type": "code",
   "execution_count": 16,
   "metadata": {
    "collapsed": true
   },
   "outputs": [],
   "source": [
    "def find_shared_word(str1, set1):\n",
    "    wd_set1 = set(str1.lower().split())\n",
    "    return wd_set1 & set1"
   ]
  },
  {
   "cell_type": "code",
   "execution_count": 17,
   "metadata": {
    "collapsed": true
   },
   "outputs": [],
   "source": [
    "def parse_time(raw_time):\n",
    "    date_format = '%Y-%m-%dT%H:%M:%SZ'\n",
    "    return datetime.strptime(raw_time, date_format)"
   ]
  },
  {
   "cell_type": "code",
   "execution_count": 18,
   "metadata": {
    "collapsed": false
   },
   "outputs": [],
   "source": [
    "def info_extractor():\n",
    "    time, title, description, url = zip(*[(parse_time(elem['publishedAt']), elem['title'], elem['description'], elem['url']) \n",
    "                                          for elem in news if find_shared_word(elem['title'], target_companies)])\n",
    "    df = pd.DataFrame(np.column_stack([time, title, description, url]), columns=['time', 'title', 'description', 'url'])\n",
    "    return df"
   ]
  },
  {
   "cell_type": "code",
   "execution_count": 13,
   "metadata": {
    "collapsed": false
   },
   "outputs": [],
   "source": [
    "pd.set_option(\"max_colwidth\", 300)"
   ]
  },
  {
   "cell_type": "code",
   "execution_count": 14,
   "metadata": {
    "collapsed": false
   },
   "outputs": [
    {
     "data": {
      "text/html": [
       "<div>\n",
       "<style>\n",
       "    .dataframe thead tr:only-child th {\n",
       "        text-align: right;\n",
       "    }\n",
       "\n",
       "    .dataframe thead th {\n",
       "        text-align: left;\n",
       "    }\n",
       "\n",
       "    .dataframe tbody tr th {\n",
       "        vertical-align: top;\n",
       "    }\n",
       "</style>\n",
       "<table border=\"1\" class=\"dataframe\">\n",
       "  <thead>\n",
       "    <tr style=\"text-align: right;\">\n",
       "      <th></th>\n",
       "      <th>time</th>\n",
       "      <th>title</th>\n",
       "      <th>description</th>\n",
       "      <th>url</th>\n",
       "    </tr>\n",
       "  </thead>\n",
       "  <tbody>\n",
       "    <tr>\n",
       "      <th>0</th>\n",
       "      <td>2018-05-02 23:25:49</td>\n",
       "      <td>Amazon Launches Its Own Pet Product Brand, Wag; Starts With Food</td>\n",
       "      <td>Amazon.com Inc. has started its own brand of pet products, called Wag, expanding on existing private-label efforts that include batteries, baby products, clothing and household goods.</td>\n",
       "      <td>https://www.bloomberg.com/news/articles/2018-05-02/amazon-launches-its-own-pet-product-brand-wag-starts-with-food</td>\n",
       "    </tr>\n",
       "  </tbody>\n",
       "</table>\n",
       "</div>"
      ],
      "text/plain": [
       "                  time  \\\n",
       "0  2018-05-02 23:25:49   \n",
       "\n",
       "                                                              title  \\\n",
       "0  Amazon Launches Its Own Pet Product Brand, Wag; Starts With Food   \n",
       "\n",
       "                                                                                                                                                                               description  \\\n",
       "0  Amazon.com Inc. has started its own brand of pet products, called Wag, expanding on existing private-label efforts that include batteries, baby products, clothing and household goods.   \n",
       "\n",
       "                                                                                                                 url  \n",
       "0  https://www.bloomberg.com/news/articles/2018-05-02/amazon-launches-its-own-pet-product-brand-wag-starts-with-food  "
      ]
     },
     "execution_count": 14,
     "metadata": {},
     "output_type": "execute_result"
    }
   ],
   "source": [
    "info_extractor()"
   ]
  },
  {
   "cell_type": "code",
   "execution_count": null,
   "metadata": {
    "collapsed": true
   },
   "outputs": [],
   "source": [
    "positive_v = ['is launching', 'reaches .. high', 'expansion', 'new', 'popular']\n",
    "negative_v = ['lawsuit', 'claim agaist', 'scam', 'fraud', 'drop', 'problem']"
   ]
  }
 ],
 "metadata": {
  "kernelspec": {
   "display_name": "Python 3",
   "language": "python",
   "name": "python3"
  },
  "language_info": {
   "codemirror_mode": {
    "name": "ipython",
    "version": 3
   },
   "file_extension": ".py",
   "mimetype": "text/x-python",
   "name": "python",
   "nbconvert_exporter": "python",
   "pygments_lexer": "ipython3",
   "version": "3.6.0"
  }
 },
 "nbformat": 4,
 "nbformat_minor": 2
}
